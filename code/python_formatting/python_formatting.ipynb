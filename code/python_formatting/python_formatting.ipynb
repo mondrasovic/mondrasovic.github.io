{
 "cells": [
  {
   "attachments": {},
   "cell_type": "markdown",
   "metadata": {},
   "source": [
    "# Motivation\n",
    "\n",
    "In this post, I would like to cover various ways of handling **output formatting** in [Python](https://en.wikipedia.org/wiki/Python_(programming_language)). Despite the fact that the topic of **printing** is one of the most fundamental ones, I have to admit that it does not cease to amaze me how the routine work of printing output can be enhanced with new [Python](https://en.wikipedia.org/wiki/Python_(programming_language)) releases. In light of this, my endeavor is to highlight some key aspects I consider relevant with a **huge time-saving potential** when it comes to working with output (e.g., during debugging).\n",
    "\n",
    "> **Mastery** of **`string` formatting** yields **efficiency**.\n",
    "\n",
    "*Disclaimer: This article is by no means an exhaustive elaboration of output formatting. It serves merely as a basis for inspiration (and personal brain dump obviously) and further individual research into specific topics of interest.*"
   ]
  },
  {
   "attachments": {},
   "cell_type": "markdown",
   "metadata": {},
   "source": [
    "# C-style Strings\n",
    "\n",
    "**C-style strings** are the most **basic approach**, and perhaps the **most limited one**. As the name suggests, it reflects the formatting patterns developed as part of the [C programming language](https://en.wikipedia.org/wiki/C_(programming_language)).\n",
    "\n",
    "It is the **oldest method** of `string` formatting that relies on the use of **modulo** (`%`) **operator**.\n",
    "\n",
    "> **C-style strings** are **basic** and **limited approach**, practically **obsolete** nowadays.\n",
    "\n",
    "Here are several examples."
   ]
  },
  {
   "cell_type": "code",
   "execution_count": 2,
   "metadata": {},
   "outputs": [
    {
     "name": "stdout",
     "output_type": "stream",
     "text": [
      "Guido van Rossum is 66 years old.\n"
     ]
    }
   ],
   "source": [
    "first_name = \"Guido\"\n",
    "last_name = \"van Rossum\"\n",
    "age = 66\n",
    "\n",
    "print(\"%s %s is %d years old.\" % (first_name, last_name, age))"
   ]
  },
  {
   "cell_type": "code",
   "execution_count": 3,
   "metadata": {},
   "outputs": [
    {
     "name": "stdout",
     "output_type": "stream",
     "text": [
      "The year is 365.24219600 days long.\n"
     ]
    }
   ],
   "source": [
    "year_length = 365.242196\n",
    "\n",
    "print(\"The year is %.8f days long.\" % year_length)"
   ]
  },
  {
   "attachments": {},
   "cell_type": "markdown",
   "metadata": {},
   "source": [
    "It's important to note that the **`string` formatting operator** shown above requires `tuple` as an argument. So, when printing the contents of a single `tuple`, one has to be extra careful.\n",
    "\n",
    "> The **`string` formatting** (`%`) **operator** requires `tuple` as an **argument**.\n",
    "\n",
    "Consider the following example."
   ]
  },
  {
   "cell_type": "code",
   "execution_count": 4,
   "metadata": {},
   "outputs": [
    {
     "ename": "TypeError",
     "evalue": "not all arguments converted during string formatting",
     "output_type": "error",
     "traceback": [
      "\u001b[0;31m---------------------------------------------------------------------------\u001b[0m",
      "\u001b[0;31mTypeError\u001b[0m                                 Traceback (most recent call last)",
      "Cell \u001b[0;32mIn[4], line 3\u001b[0m\n\u001b[1;32m      1\u001b[0m fibonacci_seq \u001b[39m=\u001b[39m (\u001b[39m1\u001b[39m, \u001b[39m1\u001b[39m, \u001b[39m2\u001b[39m, \u001b[39m3\u001b[39m, \u001b[39m5\u001b[39m, \u001b[39m8\u001b[39m)\n\u001b[0;32m----> 3\u001b[0m \u001b[39mprint\u001b[39m(\u001b[39m\"\u001b[39;49m\u001b[39mFibonacci sequence \u001b[39;49m\u001b[39m%s\u001b[39;49;00m\u001b[39m.\u001b[39;49m\u001b[39m\"\u001b[39;49m \u001b[39m%\u001b[39;49m fibonacci_seq)\n",
      "\u001b[0;31mTypeError\u001b[0m: not all arguments converted during string formatting"
     ]
    }
   ],
   "source": [
    "fibonacci_seq = (1, 1, 2, 3, 5, 8)\n",
    "\n",
    "print(\"Fibonacci sequence %s.\" % fibonacci_seq)"
   ]
  },
  {
   "attachments": {},
   "cell_type": "markdown",
   "metadata": {},
   "source": [
    "Since the operator **expects** a `tuple`, it, therefore, tries to print `len(fibonacci_seq)` elements instead of just one.\n",
    "\n",
    "To address this, an ugly fix like the one below would work..."
   ]
  },
  {
   "cell_type": "code",
   "execution_count": 5,
   "metadata": {},
   "outputs": [
    {
     "name": "stdout",
     "output_type": "stream",
     "text": [
      "Fibonacci sequence 1, 1, 2, 3, 5, 8.\n"
     ]
    }
   ],
   "source": [
    "print(\"Fibonacci sequence %d, %d, %d, %d, %d, %d.\" % fibonacci_seq)"
   ]
  },
  {
   "attachments": {},
   "cell_type": "markdown",
   "metadata": {},
   "source": [
    "The **disadvantages** are obvious, the most notable one being **violating** the [Don't-Repeat-Yourself (DRY)](https://en.wikipedia.org/wiki/Don%27t_repeat_yourself) **principle**.\n",
    "\n",
    "To remedy this, the `tuple` needs to be **enclosed** into another `tuple` to make it work."
   ]
  },
  {
   "cell_type": "code",
   "execution_count": 6,
   "metadata": {},
   "outputs": [
    {
     "name": "stdout",
     "output_type": "stream",
     "text": [
      "Fibonacci sequence (1, 1, 2, 3, 5, 8).\n"
     ]
    }
   ],
   "source": [
    "fibonacci_seq = (1, 1, 2, 3, 5, 8)\n",
    "\n",
    "print(\"Fibonacci sequence %s.\" % (fibonacci_seq,))"
   ]
  },
  {
   "attachments": {},
   "cell_type": "markdown",
   "metadata": {},
   "source": [
    "The aforementioned **C-style strings** have become **obsolete** and I would **advise against adopting it in new codebases**. In what follows, I'll cover more \"comfortable\" ways to handle printing output."
   ]
  },
  {
   "attachments": {},
   "cell_type": "markdown",
   "metadata": {},
   "source": [
    "# Using the \"format\" Method"
   ]
  },
  {
   "attachments": {},
   "cell_type": "markdown",
   "metadata": {},
   "source": [
    "Introduced in [PEP 3101](https://peps.python.org/pep-3101/), the `format` method of the `string` class is a **new way** of defining **output format**. The modern `f-string`s that will be covered later are more or less a [syntactic sugar](https://en.wikipedia.org/wiki/Syntactic_sugar) for the concepts outlined below."
   ]
  },
  {
   "cell_type": "code",
   "execution_count": 7,
   "metadata": {},
   "outputs": [
    {
     "name": "stdout",
     "output_type": "stream",
     "text": [
      "Guido van Rossum is 66 years old.\n"
     ]
    }
   ],
   "source": [
    "first_name = \"Guido\"\n",
    "last_name = \"van Rossum\"\n",
    "age = 66\n",
    "\n",
    "print(\"{} {} is {} years old.\".format(first_name, last_name, age))"
   ]
  },
  {
   "cell_type": "code",
   "execution_count": 8,
   "metadata": {},
   "outputs": [
    {
     "name": "stdout",
     "output_type": "stream",
     "text": [
      "The year is 365.24219600 days long.\n"
     ]
    }
   ],
   "source": [
    "year_length = 365.242196\n",
    "\n",
    "print(\"The year is {:.8f} days long.\".format(year_length))"
   ]
  },
  {
   "attachments": {},
   "cell_type": "markdown",
   "metadata": {},
   "source": [
    "Just for the record, **formatting floating point** values (i.e., `float`s) provides a lot **more options**, since its general **format specification** is \n",
    "\n",
    "```\n",
    "{[index]:[width][.precision][type]}\n",
    "```"
   ]
  },
  {
   "attachments": {},
   "cell_type": "markdown",
   "metadata": {},
   "source": [
    "On top of all this, the values to be printed can be passed as a `dict` where the **keys** are the **identifiers**, serving some sort of a **template** mechanism."
   ]
  },
  {
   "cell_type": "code",
   "execution_count": 9,
   "metadata": {},
   "outputs": [
    {
     "name": "stdout",
     "output_type": "stream",
     "text": [
      "Guido van Rossum is 66 years old.\n"
     ]
    }
   ],
   "source": [
    "print(\n",
    "    \"{firstname} {lastname} is {age} years old.\".format(\n",
    "        firstname=first_name, lastname=last_name, age=age\n",
    "    )\n",
    ")"
   ]
  },
  {
   "attachments": {},
   "cell_type": "markdown",
   "metadata": {},
   "source": [
    "The `dict`-based parameters come in handy in the face of possible **duplicity**, e.g., when **violating** the already mentioned [Don't-Repeat-Yourself (DRY)](https://en.wikipedia.org/wiki/Don%27t_repeat_yourself) **principle**. The **same argument** can thus be **reused** at **multiple places**.\n",
    "\n",
    "> The `format` method also **accepts** a `dict` of values to print, thereby allowing **reusability**."
   ]
  },
  {
   "cell_type": "code",
   "execution_count": 10,
   "metadata": {},
   "outputs": [
    {
     "name": "stdout",
     "output_type": "stream",
     "text": [
      "The year does not have just 365 days, but 365.242196 days exactly!\n"
     ]
    }
   ],
   "source": [
    "year_length = 365.242196\n",
    "\n",
    "print(\n",
    "    \"The year does not have just {n_days:.0f} days, but {n_days:.6f} days exactly!\".format(\n",
    "        n_days=year_length\n",
    "    )\n",
    ")"
   ]
  },
  {
   "attachments": {},
   "cell_type": "markdown",
   "metadata": {},
   "source": [
    "# Modern So-called \"f-strings\""
   ]
  },
  {
   "attachments": {},
   "cell_type": "markdown",
   "metadata": {},
   "source": [
    "## Basic usage\n",
    "\n",
    "Long story short, `f-strings` are pretty much an extension that makes calling the `format` method easier. It relies on the use of a **single** `f` **character** at the **beginning** of the **format string**.\n",
    "More specifically, this feature was introduced in [PEP 498](https://peps.python.org/pep-0498/) as a **new string formatting mechanism** dubbed **Literal String Interpolation**.\n",
    "\n",
    "> `f-strings` are also known as **Literal String Interpolation**.\n",
    "\n",
    "> `f-strings` are a [syntactic sugar](https://en.wikipedia.org/wiki/Syntactic_sugar) for the `format` method."
   ]
  },
  {
   "cell_type": "code",
   "execution_count": 11,
   "metadata": {},
   "outputs": [
    {
     "name": "stdout",
     "output_type": "stream",
     "text": [
      "Guido van Rossum is 66 years old.\n"
     ]
    }
   ],
   "source": [
    "first_name = \"Guido\"\n",
    "last_name = \"van Rossum\"\n",
    "age = 66\n",
    "\n",
    "print(f\"{first_name} {last_name} is {age} years old.\")"
   ]
  },
  {
   "cell_type": "code",
   "execution_count": 12,
   "metadata": {},
   "outputs": [
    {
     "name": "stdout",
     "output_type": "stream",
     "text": [
      "The year is 365.24219600 days long.\n"
     ]
    }
   ],
   "source": [
    "year_length = 365.242196\n",
    "\n",
    "print(f\"The year is {year_length:.8f} days long.\")"
   ]
  },
  {
   "attachments": {},
   "cell_type": "markdown",
   "metadata": {},
   "source": [
    "As for me, the **conciseness** of the `f-strings` is literally incontrovertible.\n",
    "\n",
    "> `f-strings` are a **manifestation** of **brevity** in conjunction **explicitness**."
   ]
  },
  {
   "attachments": {},
   "cell_type": "markdown",
   "metadata": {},
   "source": [
    "## Formatting - under the hood\n",
    "\n",
    "*Note: The upcoming discussion also applies to the `format` method we touched upon previously.*\n",
    "\n",
    "In the case of having to **define custom formatting** rules, the `__format__` method can be **overridden**. The **argument** that is **specified after the colon** (`:` character) is provided as a **method parameter**. \n",
    "\n",
    "> **Custom formatting rules** can be **defined** within the `__format__` method.\n",
    "\n",
    "The **parameter** is of `str` type and is **empty** if **no format** is specified.\n"
   ]
  },
  {
   "cell_type": "code",
   "execution_count": 13,
   "metadata": {},
   "outputs": [
    {
     "name": "stdout",
     "output_type": "stream",
     "text": [
      "Guido von Rossum\n",
      "Guido von Rossum (66)\n"
     ]
    }
   ],
   "source": [
    "class Person:\n",
    "    def __init__(self, name, age):\n",
    "        self.name = name\n",
    "        self.age = age\n",
    "    \n",
    "    def __format__(self, spec):\n",
    "        if not spec:\n",
    "            return self.name\n",
    "        elif spec == \"full\":\n",
    "            return f\"{self.name} ({self.age})\"\n",
    "        else:\n",
    "            raise ValueError(\n",
    "                f\"unrecognized format, expected empty of `full`, got {spec}\"\n",
    "            )\n",
    "\n",
    "person = Person(\"Guido von Rossum\", 66)\n",
    "\n",
    "print(f\"{person}\")\n",
    "print(f\"{person:full}\")"
   ]
  },
  {
   "attachments": {},
   "cell_type": "markdown",
   "metadata": {},
   "source": [
    "## Other object representation-related methods"
   ]
  },
  {
   "attachments": {},
   "cell_type": "markdown",
   "metadata": {},
   "source": [
    "Please, beware that the `print` function calls `__repr__` by default, so `print(person)` would **not invoke** the `__format__` method in the above example. That's why `print(f\"{person}\")` had to be used instead.\n",
    "\n",
    "> The trio of **object string representation methods** consists of `__repr__`, `__str__`, and `__format__`, where each serves for a **completely different purpose**.\n",
    "\n",
    "*Note: A deeper elaboration is out of the scope of this article, so I encourage the reader to explore the topic further by themselves.*\n",
    "\n",
    "This is what happens if the `__repr__` method is not overrridden (which, in our case, is not)."
   ]
  },
  {
   "cell_type": "code",
   "execution_count": 14,
   "metadata": {},
   "outputs": [
    {
     "name": "stdout",
     "output_type": "stream",
     "text": [
      "<__main__.Person object at 0x7f19082d3dc0>\n"
     ]
    }
   ],
   "source": [
    "print(person)"
   ]
  },
  {
   "attachments": {},
   "cell_type": "markdown",
   "metadata": {},
   "source": [
    "The `__repr__` method can be called **directly** using the `!r` format modifier."
   ]
  },
  {
   "cell_type": "code",
   "execution_count": 15,
   "metadata": {},
   "outputs": [
    {
     "name": "stdout",
     "output_type": "stream",
     "text": [
      "<__main__.Person object at 0x7f19082d3dc0>\n"
     ]
    }
   ],
   "source": [
    "print(f\"{person!r}\")"
   ]
  },
  {
   "attachments": {},
   "cell_type": "markdown",
   "metadata": {},
   "source": [
    "And here is an attempt to **invoke** the `__str__` method of the object, again, demonstrating the **default behavior** as the implementation is **missing** in our example."
   ]
  },
  {
   "cell_type": "code",
   "execution_count": 16,
   "metadata": {},
   "outputs": [
    {
     "name": "stdout",
     "output_type": "stream",
     "text": [
      "<__main__.Person object at 0x7f19082d3dc0>\n"
     ]
    }
   ],
   "source": [
    "print(f\"{person!s}\")"
   ]
  },
  {
   "attachments": {},
   "cell_type": "markdown",
   "metadata": {},
   "source": [
    "Let's then **define** **custom** `__str__` and `__repr__` methods to see the difference. A short sidenote, the `__repr__` method is **reserved** for **string representation** of the **object** itself. It should be possible to **construct** the object from its **string representation** if the **expression** is evaluated (e.g., using the `eval` built-in function). In a math-like fashion, one could claim that `assert eval(object_instance.__repr__()) == object_instance`, assuming that the `__equals__` method is properly overridden."
   ]
  },
  {
   "cell_type": "code",
   "execution_count": 17,
   "metadata": {},
   "outputs": [
    {
     "name": "stdout",
     "output_type": "stream",
     "text": [
      "Geoffrey Hinton, 75 years old\n",
      "Geoffrey Hinton, 75 years old\n",
      "Person('Geoffrey Hinton', 75)\n"
     ]
    }
   ],
   "source": [
    "class Person:\n",
    "    def __init__(self, name, age):\n",
    "        self.name = name\n",
    "        self.age = age\n",
    "    \n",
    "    def __str__(self):\n",
    "        return f\"{self.name}, {self.age} years old\"\n",
    "    \n",
    "    def __repr__(self):\n",
    "        return f\"{__class__.__name__}({self.name!r}, {self.age!r})\"\n",
    "\n",
    "person = Person(\"Geoffrey Hinton\", 75)\n",
    "\n",
    "print(person)\n",
    "print(f\"{person!s}\")\n",
    "print(f\"{person!r}\")"
   ]
  },
  {
   "attachments": {},
   "cell_type": "markdown",
   "metadata": {},
   "source": [
    "To demonstrate the **purpose** of the `__repr__` method, the expression it produces should be **sufficient** to construct the object **from scratch** when **evaluated** (using `eval`), so..."
   ]
  },
  {
   "cell_type": "code",
   "execution_count": 18,
   "metadata": {},
   "outputs": [
    {
     "name": "stdout",
     "output_type": "stream",
     "text": [
      "Geoffrey Hinton, 75 years old\n",
      "Geoffrey Hinton, 75 years old\n",
      "Person('Geoffrey Hinton', 75)\n"
     ]
    }
   ],
   "source": [
    "person_new = eval(person.__repr__())\n",
    "\n",
    "print(person_new)\n",
    "print(f\"{person_new!s}\")\n",
    "print(f\"{person_new!r}\")"
   ]
  },
  {
   "attachments": {},
   "cell_type": "markdown",
   "metadata": {},
   "source": [
    "## Advanced formatting\n",
    "\n",
    "This section covers some **advanced** formatting examples that may significantly **enhance** the **output quality** as well as **save** considerable amount of **time** when **debugging**."
   ]
  },
  {
   "attachments": {},
   "cell_type": "markdown",
   "metadata": {},
   "source": [
    "### Explicit ASCII representation\n",
    "\n",
    "Every now and then, primarily when **debugging**, it might be useful to obtain the exact [ASCII](https://en.wikipedia.org/wiki/ASCII) representation of the `string`, especially when it contains [UNICODE](https://en.wikipedia.org/wiki/Unicode) characters. To this end, there is the `!a` **format modifier**."
   ]
  },
  {
   "cell_type": "code",
   "execution_count": 19,
   "metadata": {},
   "outputs": [
    {
     "name": "stdout",
     "output_type": "stream",
     "text": [
      "diamonds (♦), clubs (♣), hearts (♥) and spades (♠)\n",
      "'diamonds (\\u2666), clubs (\\u2663), hearts (\\u2665) and spades (\\u2660)'\n"
     ]
    }
   ],
   "source": [
    "card_suits = \"diamonds (♦), clubs (♣), hearts (♥) and spades (♠)\"\n",
    "\n",
    "print(f\"{card_suits}\")\n",
    "print(f\"{card_suits!a}\")"
   ]
  },
  {
   "attachments": {},
   "cell_type": "markdown",
   "metadata": {},
   "source": [
    "### Expression Representation"
   ]
  },
  {
   "attachments": {},
   "cell_type": "markdown",
   "metadata": {},
   "source": [
    "When **debugging** or implementing a **logging output** (e.g., using the [`logging`](https://docs.python.org/3/library/logging.html) module), one may often wish to **print** the **value** of some **variable** together with its **name**, as shown below."
   ]
  },
  {
   "cell_type": "code",
   "execution_count": 20,
   "metadata": {},
   "outputs": [
    {
     "name": "stdout",
     "output_type": "stream",
     "text": [
      "total = 10.\n"
     ]
    }
   ],
   "source": [
    "total = 10\n",
    "\n",
    "print(f\"total = {total}.\")"
   ]
  },
  {
   "attachments": {},
   "cell_type": "markdown",
   "metadata": {},
   "source": [
    "When the **name** of the variable `total` changes, the **output** above is **no longer valid**. Nowadays, **refactoring** tools, even in [dynamically typed languages](https://en.wikipedia.org/wiki/Dynamic_programming_language) such as [Python](https://en.wikipedia.org/wiki/Python_(programming_language)), are able to handle **variable renaming** reasonably well. However, these tools would have hard time figuring out that the `\"total = \"` text is also associated with the variable name. Consequently, one has to update the output statement accordingly, engaging in duplicite work that we should strive to avoid in the first place."
   ]
  },
  {
   "attachments": {},
   "cell_type": "markdown",
   "metadata": {},
   "source": [
    "A **new formatting specification** comes to the rescue with **Python 3.8** and above. The syntax speaks for itself, at least for me...."
   ]
  },
  {
   "cell_type": "code",
   "execution_count": 21,
   "metadata": {},
   "outputs": [
    {
     "name": "stdout",
     "output_type": "stream",
     "text": [
      "total=10.\n"
     ]
    }
   ],
   "source": [
    "print(f\"{total=}.\")"
   ]
  },
  {
   "attachments": {},
   "cell_type": "markdown",
   "metadata": {},
   "source": [
    "The **compactness** is simply staggering.\n",
    "\n",
    "> The `f\"{var=}\"` **format** ties the **`string` representation** of the **expression** with its **value**.\n",
    "\n",
    "Moreover, it allows to **specify spaces** as well, in order to match our initial output exactly."
   ]
  },
  {
   "cell_type": "code",
   "execution_count": 22,
   "metadata": {},
   "outputs": [
    {
     "name": "stdout",
     "output_type": "stream",
     "text": [
      "total = 10.\n",
      "total= 10.\n",
      "total =10.\n"
     ]
    }
   ],
   "source": [
    "print(f\"{total = }.\")\n",
    "print(f\"{total= }.\")\n",
    "print(f\"{total =}.\")"
   ]
  },
  {
   "attachments": {},
   "cell_type": "markdown",
   "metadata": {},
   "source": [
    "But that's not all. As suggested above, it is the **`string` representation** of the **expression**, not just the **variable name**, that gets printed. Furthermore, all the **formatting options** discussed so far can be applied, too.\n",
    "\n",
    "All right, as [Linux Torvalds](https://en.wikipedia.org/wiki/Linus_Torvalds) succintly remarked that *\"Talk is cheap. Show me the code.\"*, let's have a look at more capabilities of this fabulous feature. "
   ]
  },
  {
   "cell_type": "code",
   "execution_count": 23,
   "metadata": {},
   "outputs": [
    {
     "name": "stdout",
     "output_type": "stream",
     "text": [
      "total = 10\n",
      "total // 3 = 3\n",
      "total / 3 = 3.333333\n",
      "total % 3 = 1\n",
      "(total // 2) ** 2 = 25\n"
     ]
    }
   ],
   "source": [
    "print(f\"{total = }\")\n",
    "print(f\"{total // 3 = }\")\n",
    "print(f\"{total / 3 = :.6f}\")\n",
    "print(f\"{total % 3 = }\")\n",
    "print(f\"{(total // 2) ** 2 = }\")"
   ]
  },
  {
   "attachments": {},
   "cell_type": "markdown",
   "metadata": {},
   "source": [
    "### Printing date and time information\n",
    "\n",
    "Another useful example how `f-strings` might be beneficial is when printing **date** and **time** information."
   ]
  },
  {
   "cell_type": "code",
   "execution_count": 24,
   "metadata": {},
   "outputs": [
    {
     "name": "stdout",
     "output_type": "stream",
     "text": [
      "Today's date is: 10/01/2023.\n"
     ]
    }
   ],
   "source": [
    "import datetime\n",
    "\n",
    "curr_time = datetime.datetime.now()\n",
    "\n",
    "print(f\"Today's date is: {curr_time:%d/%m/%Y}.\")  # Day, month, and year."
   ]
  },
  {
   "attachments": {},
   "cell_type": "markdown",
   "metadata": {},
   "source": [
    "# Templates\n",
    "\n",
    "To me, a somehow **less known** way to specify **output format** is to **define** a **template**, as proposed in [PEP 292](https://peps.python.org/pep-0292/). The format exploits **placeholder names** indicated by the dollar sign (`$` character) conforming to the rules of [Python](https://en.wikipedia.org/wiki/Python_(programming_language)) identifier naming, i.e., alphanumeric characters including underscores, concretely `0-9a-zA-Z_`. As the **common practice** dictates, writing `$$` signifies **escaping** to the parser, thus producing just a single `$` on the output."
   ]
  },
  {
   "cell_type": "code",
   "execution_count": 25,
   "metadata": {},
   "outputs": [
    {
     "name": "stdout",
     "output_type": "stream",
     "text": [
      "Hey, Donald Knuth. How old are you?\n",
      "I am 84 years old. Why are you asking?\n"
     ]
    }
   ],
   "source": [
    "from string import Template\n",
    "\n",
    "template = Template(\n",
    "\"\"\"Hey, $first_name $last_name. How old are you?\n",
    "I am $age years old. Why are you asking?\"\"\"\n",
    ")\n",
    "\n",
    "print(template.substitute(first_name=\"Donald\", last_name=\"Knuth\", age=84))"
   ]
  },
  {
   "attachments": {},
   "cell_type": "markdown",
   "metadata": {},
   "source": [
    "# Conclusion\n",
    "\n",
    "In this post, I tried to provide brief introduction to **output formatting** in [Python](https://en.wikipedia.org/wiki/Python_(programming_language)) with focus on **usefulness** and **inspiration** rather than exhaustive elaboration of details. In the context of `string` formatting, this language has a great deal of built-in capabilities that evelopers should exploit instead of re-inventing the wheel or perofrming duplicite tasks in their day-to-day programming workflow.\n",
    "\n",
    "I hope you learned something new."
   ]
  }
 ],
 "metadata": {
  "kernelspec": {
   "display_name": "Python 3",
   "language": "python",
   "name": "python3"
  },
  "language_info": {
   "codemirror_mode": {
    "name": "ipython",
    "version": 3
   },
   "file_extension": ".py",
   "mimetype": "text/x-python",
   "name": "python",
   "nbconvert_exporter": "python",
   "pygments_lexer": "ipython3",
   "version": "3.8.10"
  },
  "orig_nbformat": 4,
  "vscode": {
   "interpreter": {
    "hash": "31f2aee4e71d21fbe5cf8b01ff0e069b9275f58929596ceb00d14d90e3e16cd6"
   }
  }
 },
 "nbformat": 4,
 "nbformat_minor": 2
}
